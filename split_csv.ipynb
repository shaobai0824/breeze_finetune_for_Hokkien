{
 "cells": [
  {
   "cell_type": "code",
   "execution_count": 2,
   "id": "952b56f8",
   "metadata": {},
   "outputs": [],
   "source": [
    "import pandas as pd\n",
    "\n",
    "df = pd.read_csv(\"output_zh_optimized_dedup.csv\")\n",
    "total = len(df)\n",
    "part_size = (total + 3) // 4  # 保證分4份，最後一份可能較少\n",
    "\n",
    "for i in range(4):\n",
    "    start = i * part_size\n",
    "    end = min((i + 1) * part_size, total)\n",
    "    df_part = df.iloc[start:end]\n",
    "    df_part.to_csv(f\"output_zh_optimized_dedup_part{i+1}.csv\", index=False)"
   ]
  }
 ],
 "metadata": {
  "kernelspec": {
   "display_name": ".venv",
   "language": "python",
   "name": "python3"
  },
  "language_info": {
   "codemirror_mode": {
    "name": "ipython",
    "version": 3
   },
   "file_extension": ".py",
   "mimetype": "text/x-python",
   "name": "python",
   "nbconvert_exporter": "python",
   "pygments_lexer": "ipython3",
   "version": "3.11.9"
  }
 },
 "nbformat": 4,
 "nbformat_minor": 5
}
